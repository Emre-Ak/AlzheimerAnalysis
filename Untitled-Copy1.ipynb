{
 "cells": [
  {
   "cell_type": "markdown",
   "id": "769eedf3",
   "metadata": {},
   "source": [
    "# Alzheimer Analysis\n",
    "\n",
    "## Structure\n",
    "- Introduction\n",
    "- Business Questions\n",
    "- Methods used\n",
    "- Results\n",
    "- Last Words\n",
    "\n",
    "## Introduction\n",
    "In the context of Alzheimer disease, there have been multiple potential characteristics observed throughout the sample dataset. In the following, we will have a closer look on some medicine related feature terminology: \n",
    "\n",
    "### Mini-Mental State Examination\n",
    "The Mini‐Mental State Examination (Folstein 1975), or MMSE, is a simple pen‐and‐paper test of cognitive function based on a total possible score of 30 points; it includes tests of orientation, concentration, attention, verbal memory, naming and visuospatial skills.\n",
    "\n",
    "### Clinical Dementia Rating (CDR)\n",
    "The CDR is based on a scale of 0–3: no dementia (CDR = 0), questionable dementia (CDR = 0.5), MCI (CDR = 1), moderate cognitive impairment (CDR = 2), and severe cognitive impairment (CDR = 3).\n",
    "\n",
    "### Estimated total intacranial volume\n",
    "The ICV measure, sometimes referred to as total intracranial volume (TIV), refers to the estimated volume of the cranial cavity as outlined by the supratentorial dura matter or cerebral contour when dura is not clearly detectable\n",
    "\n",
    "### Normalized whole brain volume\n",
    "Total brain volume (TBV) is another measure (to TIV) used to correct the head size variation across subjects. Using TBV may be more appropriate when interest is in how the brain structure volume changes with respect to the brain as a whole.\n",
    "\n",
    "### Atlas scaling factor\n",
    "Automated atlas transformation generated the Atlas Scaling Factor (ASF) defined as the volume-scaling factor required to match each individual to the atlas target. Because atlas normalization equates head size, the ASF should be proportional to TIV\n",
    "\n",
    "## Business Questions\n",
    "1) Which features provided in the dataset have the highest correlation to the alzheimer disease being positive?\n",
    "2) Which features provided in the dataset have the highest correlation to the alzheimer disease being negative?\n",
    "3) How can one model for predicting the alzheimer disease for a new individual input look like? \n",
    "\n",
    "## Methods used\n",
    "Data Preparation including data cleaning and formating. Linear Regression.\n",
    "\n",
    "## Results \n",
    "...\n",
    "\n",
    "## Last Words\n",
    "...\n"
   ]
  },
  {
   "cell_type": "code",
   "execution_count": 87,
   "id": "28c610e5",
   "metadata": {},
   "outputs": [
    {
     "data": {
      "text/html": [
       "<div>\n",
       "<style scoped>\n",
       "    .dataframe tbody tr th:only-of-type {\n",
       "        vertical-align: middle;\n",
       "    }\n",
       "\n",
       "    .dataframe tbody tr th {\n",
       "        vertical-align: top;\n",
       "    }\n",
       "\n",
       "    .dataframe thead th {\n",
       "        text-align: right;\n",
       "    }\n",
       "</style>\n",
       "<table border=\"1\" class=\"dataframe\">\n",
       "  <thead>\n",
       "    <tr style=\"text-align: right;\">\n",
       "      <th></th>\n",
       "      <th>Group</th>\n",
       "      <th>M/F</th>\n",
       "      <th>Age</th>\n",
       "      <th>EDUC</th>\n",
       "      <th>SES</th>\n",
       "      <th>MMSE</th>\n",
       "      <th>CDR</th>\n",
       "      <th>eTIV</th>\n",
       "      <th>nWBV</th>\n",
       "      <th>ASF</th>\n",
       "    </tr>\n",
       "  </thead>\n",
       "  <tbody>\n",
       "    <tr>\n",
       "      <th>0</th>\n",
       "      <td>Nondemented</td>\n",
       "      <td>M</td>\n",
       "      <td>87</td>\n",
       "      <td>14</td>\n",
       "      <td>2.0</td>\n",
       "      <td>27.0</td>\n",
       "      <td>0.0</td>\n",
       "      <td>1987</td>\n",
       "      <td>0.696</td>\n",
       "      <td>0.883</td>\n",
       "    </tr>\n",
       "    <tr>\n",
       "      <th>1</th>\n",
       "      <td>Nondemented</td>\n",
       "      <td>M</td>\n",
       "      <td>88</td>\n",
       "      <td>14</td>\n",
       "      <td>2.0</td>\n",
       "      <td>30.0</td>\n",
       "      <td>0.0</td>\n",
       "      <td>2004</td>\n",
       "      <td>0.681</td>\n",
       "      <td>0.876</td>\n",
       "    </tr>\n",
       "    <tr>\n",
       "      <th>2</th>\n",
       "      <td>Demented</td>\n",
       "      <td>M</td>\n",
       "      <td>75</td>\n",
       "      <td>12</td>\n",
       "      <td>NaN</td>\n",
       "      <td>23.0</td>\n",
       "      <td>0.5</td>\n",
       "      <td>1678</td>\n",
       "      <td>0.736</td>\n",
       "      <td>1.046</td>\n",
       "    </tr>\n",
       "    <tr>\n",
       "      <th>3</th>\n",
       "      <td>Demented</td>\n",
       "      <td>M</td>\n",
       "      <td>76</td>\n",
       "      <td>12</td>\n",
       "      <td>NaN</td>\n",
       "      <td>28.0</td>\n",
       "      <td>0.5</td>\n",
       "      <td>1738</td>\n",
       "      <td>0.713</td>\n",
       "      <td>1.010</td>\n",
       "    </tr>\n",
       "    <tr>\n",
       "      <th>4</th>\n",
       "      <td>Demented</td>\n",
       "      <td>M</td>\n",
       "      <td>80</td>\n",
       "      <td>12</td>\n",
       "      <td>NaN</td>\n",
       "      <td>22.0</td>\n",
       "      <td>0.5</td>\n",
       "      <td>1698</td>\n",
       "      <td>0.701</td>\n",
       "      <td>1.034</td>\n",
       "    </tr>\n",
       "  </tbody>\n",
       "</table>\n",
       "</div>"
      ],
      "text/plain": [
       "         Group M/F  Age  EDUC  SES  MMSE  CDR  eTIV   nWBV    ASF\n",
       "0  Nondemented   M   87    14  2.0  27.0  0.0  1987  0.696  0.883\n",
       "1  Nondemented   M   88    14  2.0  30.0  0.0  2004  0.681  0.876\n",
       "2     Demented   M   75    12  NaN  23.0  0.5  1678  0.736  1.046\n",
       "3     Demented   M   76    12  NaN  28.0  0.5  1738  0.713  1.010\n",
       "4     Demented   M   80    12  NaN  22.0  0.5  1698  0.701  1.034"
      ]
     },
     "execution_count": 87,
     "metadata": {},
     "output_type": "execute_result"
    }
   ],
   "source": [
    "import numpy as np\n",
    "import pandas as pd\n",
    "import matplotlib.pyplot as plt\n",
    "from sklearn.linear_model import LinearRegression\n",
    "from sklearn.model_selection import train_test_split\n",
    "from sklearn.metrics import r2_score, mean_squared_error\n",
    "\n",
    "df = pd.read_csv('alzheimer.csv')\n",
    "df.head()"
   ]
  },
  {
   "cell_type": "code",
   "execution_count": 88,
   "id": "7bfb37f2",
   "metadata": {},
   "outputs": [
    {
     "data": {
      "text/plain": [
       "(373, 10)"
      ]
     },
     "execution_count": 88,
     "metadata": {},
     "output_type": "execute_result"
    }
   ],
   "source": [
    "df.shape"
   ]
  },
  {
   "cell_type": "code",
   "execution_count": 89,
   "id": "25aac6a9",
   "metadata": {},
   "outputs": [
    {
     "data": {
      "text/plain": [
       "<bound method DataFrame.info of            Group M/F  Age  EDUC  SES  MMSE  CDR  eTIV   nWBV    ASF\n",
       "0    Nondemented   M   87    14  2.0  27.0  0.0  1987  0.696  0.883\n",
       "1    Nondemented   M   88    14  2.0  30.0  0.0  2004  0.681  0.876\n",
       "2       Demented   M   75    12  NaN  23.0  0.5  1678  0.736  1.046\n",
       "3       Demented   M   76    12  NaN  28.0  0.5  1738  0.713  1.010\n",
       "4       Demented   M   80    12  NaN  22.0  0.5  1698  0.701  1.034\n",
       "..           ...  ..  ...   ...  ...   ...  ...   ...    ...    ...\n",
       "368     Demented   M   82    16  1.0  28.0  0.5  1693  0.694  1.037\n",
       "369     Demented   M   86    16  1.0  26.0  0.5  1688  0.675  1.040\n",
       "370  Nondemented   F   61    13  2.0  30.0  0.0  1319  0.801  1.331\n",
       "371  Nondemented   F   63    13  2.0  30.0  0.0  1327  0.796  1.323\n",
       "372  Nondemented   F   65    13  2.0  30.0  0.0  1333  0.801  1.317\n",
       "\n",
       "[373 rows x 10 columns]>"
      ]
     },
     "execution_count": 89,
     "metadata": {},
     "output_type": "execute_result"
    }
   ],
   "source": [
    "df.info"
   ]
  },
  {
   "cell_type": "markdown",
   "id": "edb7e252",
   "metadata": {},
   "source": [
    "First and foremost, we rename the columns into more speaking column names."
   ]
  },
  {
   "cell_type": "code",
   "execution_count": 90,
   "id": "94ea1a5e",
   "metadata": {},
   "outputs": [],
   "source": [
    "df.rename(columns={'Group' : 'dementia_group', 'M/F' : 'gender'}, inplace=True)"
   ]
  },
  {
   "cell_type": "code",
   "execution_count": 91,
   "id": "ce1a3020",
   "metadata": {},
   "outputs": [],
   "source": [
    "df.rename(columns={'Gender' : 'gender', 'EDUC' : 'years_education', 'SES' : 'socioeconomic_status', 'MMSE' : 'mini_mentalstate_examination', 'CDR' : 'clinical_dementia_rating', 'eTIV' : 'estimated_total_intacranial_volume', 'nWBV' : 'normalized_whole_brain_volume', 'ASF' : 'atlas_scaling_factor'}, inplace=True)"
   ]
  },
  {
   "cell_type": "code",
   "execution_count": 92,
   "id": "ac95faa7",
   "metadata": {},
   "outputs": [
    {
     "data": {
      "text/html": [
       "<div>\n",
       "<style scoped>\n",
       "    .dataframe tbody tr th:only-of-type {\n",
       "        vertical-align: middle;\n",
       "    }\n",
       "\n",
       "    .dataframe tbody tr th {\n",
       "        vertical-align: top;\n",
       "    }\n",
       "\n",
       "    .dataframe thead th {\n",
       "        text-align: right;\n",
       "    }\n",
       "</style>\n",
       "<table border=\"1\" class=\"dataframe\">\n",
       "  <thead>\n",
       "    <tr style=\"text-align: right;\">\n",
       "      <th></th>\n",
       "      <th>dementia_group</th>\n",
       "      <th>gender</th>\n",
       "      <th>Age</th>\n",
       "      <th>years_education</th>\n",
       "      <th>socioeconomic_status</th>\n",
       "      <th>mini_mentalstate_examination</th>\n",
       "      <th>clinical_dementia_rating</th>\n",
       "      <th>estimated_total_intacranial_volume</th>\n",
       "      <th>normalized_whole_brain_volume</th>\n",
       "      <th>atlas_scaling_factor</th>\n",
       "    </tr>\n",
       "  </thead>\n",
       "  <tbody>\n",
       "    <tr>\n",
       "      <th>0</th>\n",
       "      <td>Nondemented</td>\n",
       "      <td>M</td>\n",
       "      <td>87</td>\n",
       "      <td>14</td>\n",
       "      <td>2.0</td>\n",
       "      <td>27.0</td>\n",
       "      <td>0.0</td>\n",
       "      <td>1987</td>\n",
       "      <td>0.696</td>\n",
       "      <td>0.883</td>\n",
       "    </tr>\n",
       "    <tr>\n",
       "      <th>1</th>\n",
       "      <td>Nondemented</td>\n",
       "      <td>M</td>\n",
       "      <td>88</td>\n",
       "      <td>14</td>\n",
       "      <td>2.0</td>\n",
       "      <td>30.0</td>\n",
       "      <td>0.0</td>\n",
       "      <td>2004</td>\n",
       "      <td>0.681</td>\n",
       "      <td>0.876</td>\n",
       "    </tr>\n",
       "    <tr>\n",
       "      <th>2</th>\n",
       "      <td>Demented</td>\n",
       "      <td>M</td>\n",
       "      <td>75</td>\n",
       "      <td>12</td>\n",
       "      <td>NaN</td>\n",
       "      <td>23.0</td>\n",
       "      <td>0.5</td>\n",
       "      <td>1678</td>\n",
       "      <td>0.736</td>\n",
       "      <td>1.046</td>\n",
       "    </tr>\n",
       "    <tr>\n",
       "      <th>3</th>\n",
       "      <td>Demented</td>\n",
       "      <td>M</td>\n",
       "      <td>76</td>\n",
       "      <td>12</td>\n",
       "      <td>NaN</td>\n",
       "      <td>28.0</td>\n",
       "      <td>0.5</td>\n",
       "      <td>1738</td>\n",
       "      <td>0.713</td>\n",
       "      <td>1.010</td>\n",
       "    </tr>\n",
       "    <tr>\n",
       "      <th>4</th>\n",
       "      <td>Demented</td>\n",
       "      <td>M</td>\n",
       "      <td>80</td>\n",
       "      <td>12</td>\n",
       "      <td>NaN</td>\n",
       "      <td>22.0</td>\n",
       "      <td>0.5</td>\n",
       "      <td>1698</td>\n",
       "      <td>0.701</td>\n",
       "      <td>1.034</td>\n",
       "    </tr>\n",
       "  </tbody>\n",
       "</table>\n",
       "</div>"
      ],
      "text/plain": [
       "  dementia_group gender  Age  years_education  socioeconomic_status  \\\n",
       "0    Nondemented      M   87               14                   2.0   \n",
       "1    Nondemented      M   88               14                   2.0   \n",
       "2       Demented      M   75               12                   NaN   \n",
       "3       Demented      M   76               12                   NaN   \n",
       "4       Demented      M   80               12                   NaN   \n",
       "\n",
       "   mini_mentalstate_examination  clinical_dementia_rating  \\\n",
       "0                          27.0                       0.0   \n",
       "1                          30.0                       0.0   \n",
       "2                          23.0                       0.5   \n",
       "3                          28.0                       0.5   \n",
       "4                          22.0                       0.5   \n",
       "\n",
       "   estimated_total_intacranial_volume  normalized_whole_brain_volume  \\\n",
       "0                                1987                          0.696   \n",
       "1                                2004                          0.681   \n",
       "2                                1678                          0.736   \n",
       "3                                1738                          0.713   \n",
       "4                                1698                          0.701   \n",
       "\n",
       "   atlas_scaling_factor  \n",
       "0                 0.883  \n",
       "1                 0.876  \n",
       "2                 1.046  \n",
       "3                 1.010  \n",
       "4                 1.034  "
      ]
     },
     "execution_count": 92,
     "metadata": {},
     "output_type": "execute_result"
    }
   ],
   "source": [
    "df.head()"
   ]
  },
  {
   "cell_type": "code",
   "execution_count": 93,
   "id": "e04d9883",
   "metadata": {},
   "outputs": [],
   "source": [
    "df.rename(columns={'Age' : 'age'}, inplace=True)"
   ]
  },
  {
   "cell_type": "code",
   "execution_count": 94,
   "id": "5156bb2e",
   "metadata": {
    "scrolled": false
   },
   "outputs": [
    {
     "data": {
      "text/html": [
       "<div>\n",
       "<style scoped>\n",
       "    .dataframe tbody tr th:only-of-type {\n",
       "        vertical-align: middle;\n",
       "    }\n",
       "\n",
       "    .dataframe tbody tr th {\n",
       "        vertical-align: top;\n",
       "    }\n",
       "\n",
       "    .dataframe thead th {\n",
       "        text-align: right;\n",
       "    }\n",
       "</style>\n",
       "<table border=\"1\" class=\"dataframe\">\n",
       "  <thead>\n",
       "    <tr style=\"text-align: right;\">\n",
       "      <th></th>\n",
       "      <th>dementia_group</th>\n",
       "      <th>gender</th>\n",
       "      <th>age</th>\n",
       "      <th>years_education</th>\n",
       "      <th>socioeconomic_status</th>\n",
       "      <th>mini_mentalstate_examination</th>\n",
       "      <th>clinical_dementia_rating</th>\n",
       "      <th>estimated_total_intacranial_volume</th>\n",
       "      <th>normalized_whole_brain_volume</th>\n",
       "      <th>atlas_scaling_factor</th>\n",
       "    </tr>\n",
       "  </thead>\n",
       "  <tbody>\n",
       "    <tr>\n",
       "      <th>0</th>\n",
       "      <td>Nondemented</td>\n",
       "      <td>M</td>\n",
       "      <td>87</td>\n",
       "      <td>14</td>\n",
       "      <td>2.0</td>\n",
       "      <td>27.0</td>\n",
       "      <td>0.0</td>\n",
       "      <td>1987</td>\n",
       "      <td>0.696</td>\n",
       "      <td>0.883</td>\n",
       "    </tr>\n",
       "    <tr>\n",
       "      <th>1</th>\n",
       "      <td>Nondemented</td>\n",
       "      <td>M</td>\n",
       "      <td>88</td>\n",
       "      <td>14</td>\n",
       "      <td>2.0</td>\n",
       "      <td>30.0</td>\n",
       "      <td>0.0</td>\n",
       "      <td>2004</td>\n",
       "      <td>0.681</td>\n",
       "      <td>0.876</td>\n",
       "    </tr>\n",
       "    <tr>\n",
       "      <th>2</th>\n",
       "      <td>Demented</td>\n",
       "      <td>M</td>\n",
       "      <td>75</td>\n",
       "      <td>12</td>\n",
       "      <td>NaN</td>\n",
       "      <td>23.0</td>\n",
       "      <td>0.5</td>\n",
       "      <td>1678</td>\n",
       "      <td>0.736</td>\n",
       "      <td>1.046</td>\n",
       "    </tr>\n",
       "    <tr>\n",
       "      <th>3</th>\n",
       "      <td>Demented</td>\n",
       "      <td>M</td>\n",
       "      <td>76</td>\n",
       "      <td>12</td>\n",
       "      <td>NaN</td>\n",
       "      <td>28.0</td>\n",
       "      <td>0.5</td>\n",
       "      <td>1738</td>\n",
       "      <td>0.713</td>\n",
       "      <td>1.010</td>\n",
       "    </tr>\n",
       "    <tr>\n",
       "      <th>4</th>\n",
       "      <td>Demented</td>\n",
       "      <td>M</td>\n",
       "      <td>80</td>\n",
       "      <td>12</td>\n",
       "      <td>NaN</td>\n",
       "      <td>22.0</td>\n",
       "      <td>0.5</td>\n",
       "      <td>1698</td>\n",
       "      <td>0.701</td>\n",
       "      <td>1.034</td>\n",
       "    </tr>\n",
       "  </tbody>\n",
       "</table>\n",
       "</div>"
      ],
      "text/plain": [
       "  dementia_group gender  age  years_education  socioeconomic_status  \\\n",
       "0    Nondemented      M   87               14                   2.0   \n",
       "1    Nondemented      M   88               14                   2.0   \n",
       "2       Demented      M   75               12                   NaN   \n",
       "3       Demented      M   76               12                   NaN   \n",
       "4       Demented      M   80               12                   NaN   \n",
       "\n",
       "   mini_mentalstate_examination  clinical_dementia_rating  \\\n",
       "0                          27.0                       0.0   \n",
       "1                          30.0                       0.0   \n",
       "2                          23.0                       0.5   \n",
       "3                          28.0                       0.5   \n",
       "4                          22.0                       0.5   \n",
       "\n",
       "   estimated_total_intacranial_volume  normalized_whole_brain_volume  \\\n",
       "0                                1987                          0.696   \n",
       "1                                2004                          0.681   \n",
       "2                                1678                          0.736   \n",
       "3                                1738                          0.713   \n",
       "4                                1698                          0.701   \n",
       "\n",
       "   atlas_scaling_factor  \n",
       "0                 0.883  \n",
       "1                 0.876  \n",
       "2                 1.046  \n",
       "3                 1.010  \n",
       "4                 1.034  "
      ]
     },
     "execution_count": 94,
     "metadata": {},
     "output_type": "execute_result"
    }
   ],
   "source": [
    "df.head()"
   ]
  },
  {
   "cell_type": "code",
   "execution_count": 95,
   "id": "4ed60f92",
   "metadata": {
    "scrolled": true
   },
   "outputs": [
    {
     "data": {
      "text/plain": [
       "dementia_group                         0\n",
       "gender                                 0\n",
       "age                                    0\n",
       "years_education                        0\n",
       "socioeconomic_status                  19\n",
       "mini_mentalstate_examination           2\n",
       "clinical_dementia_rating               0\n",
       "estimated_total_intacranial_volume     0\n",
       "normalized_whole_brain_volume          0\n",
       "atlas_scaling_factor                   0\n",
       "dtype: int64"
      ]
     },
     "execution_count": 95,
     "metadata": {},
     "output_type": "execute_result"
    }
   ],
   "source": [
    "percent_missing = df.isnull().sum()\n",
    "percent_missing"
   ]
  },
  {
   "cell_type": "markdown",
   "id": "3f77390a",
   "metadata": {},
   "source": [
    "Due to the fact, that the proportion of missing values compared to the whole dataset is so low, we remove each row with missing values (total 19 rows)."
   ]
  },
  {
   "cell_type": "code",
   "execution_count": 96,
   "id": "aeb88be8",
   "metadata": {},
   "outputs": [],
   "source": [
    "df.dropna(axis=0, how='any', inplace=True)"
   ]
  },
  {
   "cell_type": "code",
   "execution_count": 97,
   "id": "4923db10",
   "metadata": {},
   "outputs": [
    {
     "data": {
      "text/plain": [
       "dementia_group                        0\n",
       "gender                                0\n",
       "age                                   0\n",
       "years_education                       0\n",
       "socioeconomic_status                  0\n",
       "mini_mentalstate_examination          0\n",
       "clinical_dementia_rating              0\n",
       "estimated_total_intacranial_volume    0\n",
       "normalized_whole_brain_volume         0\n",
       "atlas_scaling_factor                  0\n",
       "dtype: int64"
      ]
     },
     "execution_count": 97,
     "metadata": {},
     "output_type": "execute_result"
    }
   ],
   "source": [
    "percent_missing = df.isnull().sum()\n",
    "percent_missing"
   ]
  },
  {
   "cell_type": "code",
   "execution_count": 98,
   "id": "297b0770",
   "metadata": {},
   "outputs": [
    {
     "data": {
      "text/plain": [
       "<bound method DataFrame.info of     dementia_group gender  age  years_education  socioeconomic_status  \\\n",
       "0      Nondemented      M   87               14                   2.0   \n",
       "1      Nondemented      M   88               14                   2.0   \n",
       "5      Nondemented      F   88               18                   3.0   \n",
       "6      Nondemented      F   90               18                   3.0   \n",
       "7      Nondemented      M   80               12                   4.0   \n",
       "..             ...    ...  ...              ...                   ...   \n",
       "368       Demented      M   82               16                   1.0   \n",
       "369       Demented      M   86               16                   1.0   \n",
       "370    Nondemented      F   61               13                   2.0   \n",
       "371    Nondemented      F   63               13                   2.0   \n",
       "372    Nondemented      F   65               13                   2.0   \n",
       "\n",
       "     mini_mentalstate_examination  clinical_dementia_rating  \\\n",
       "0                            27.0                       0.0   \n",
       "1                            30.0                       0.0   \n",
       "5                            28.0                       0.0   \n",
       "6                            27.0                       0.0   \n",
       "7                            28.0                       0.0   \n",
       "..                            ...                       ...   \n",
       "368                          28.0                       0.5   \n",
       "369                          26.0                       0.5   \n",
       "370                          30.0                       0.0   \n",
       "371                          30.0                       0.0   \n",
       "372                          30.0                       0.0   \n",
       "\n",
       "     estimated_total_intacranial_volume  normalized_whole_brain_volume  \\\n",
       "0                                  1987                          0.696   \n",
       "1                                  2004                          0.681   \n",
       "5                                  1215                          0.710   \n",
       "6                                  1200                          0.718   \n",
       "7                                  1689                          0.712   \n",
       "..                                  ...                            ...   \n",
       "368                                1693                          0.694   \n",
       "369                                1688                          0.675   \n",
       "370                                1319                          0.801   \n",
       "371                                1327                          0.796   \n",
       "372                                1333                          0.801   \n",
       "\n",
       "     atlas_scaling_factor  \n",
       "0                   0.883  \n",
       "1                   0.876  \n",
       "5                   1.444  \n",
       "6                   1.462  \n",
       "7                   1.039  \n",
       "..                    ...  \n",
       "368                 1.037  \n",
       "369                 1.040  \n",
       "370                 1.331  \n",
       "371                 1.323  \n",
       "372                 1.317  \n",
       "\n",
       "[354 rows x 10 columns]>"
      ]
     },
     "execution_count": 98,
     "metadata": {},
     "output_type": "execute_result"
    }
   ],
   "source": [
    "df.info"
   ]
  },
  {
   "cell_type": "code",
   "execution_count": 99,
   "id": "4af7230d",
   "metadata": {},
   "outputs": [
    {
     "data": {
      "text/plain": [
       "Nondemented    190\n",
       "Demented       127\n",
       "Converted       37\n",
       "Name: dementia_group, dtype: int64"
      ]
     },
     "execution_count": 99,
     "metadata": {},
     "output_type": "execute_result"
    }
   ],
   "source": [
    "df.dementia_group.value_counts()"
   ]
  },
  {
   "cell_type": "code",
   "execution_count": 100,
   "id": "5cc8eb8d",
   "metadata": {},
   "outputs": [
    {
     "data": {
      "text/html": [
       "<div>\n",
       "<style scoped>\n",
       "    .dataframe tbody tr th:only-of-type {\n",
       "        vertical-align: middle;\n",
       "    }\n",
       "\n",
       "    .dataframe tbody tr th {\n",
       "        vertical-align: top;\n",
       "    }\n",
       "\n",
       "    .dataframe thead th {\n",
       "        text-align: right;\n",
       "    }\n",
       "</style>\n",
       "<table border=\"1\" class=\"dataframe\">\n",
       "  <thead>\n",
       "    <tr style=\"text-align: right;\">\n",
       "      <th></th>\n",
       "      <th>dementia_group</th>\n",
       "      <th>gender</th>\n",
       "    </tr>\n",
       "  </thead>\n",
       "  <tbody>\n",
       "    <tr>\n",
       "      <th>0</th>\n",
       "      <td>Nondemented</td>\n",
       "      <td>M</td>\n",
       "    </tr>\n",
       "    <tr>\n",
       "      <th>1</th>\n",
       "      <td>Nondemented</td>\n",
       "      <td>M</td>\n",
       "    </tr>\n",
       "    <tr>\n",
       "      <th>5</th>\n",
       "      <td>Nondemented</td>\n",
       "      <td>F</td>\n",
       "    </tr>\n",
       "    <tr>\n",
       "      <th>6</th>\n",
       "      <td>Nondemented</td>\n",
       "      <td>F</td>\n",
       "    </tr>\n",
       "    <tr>\n",
       "      <th>7</th>\n",
       "      <td>Nondemented</td>\n",
       "      <td>M</td>\n",
       "    </tr>\n",
       "    <tr>\n",
       "      <th>...</th>\n",
       "      <td>...</td>\n",
       "      <td>...</td>\n",
       "    </tr>\n",
       "    <tr>\n",
       "      <th>368</th>\n",
       "      <td>Demented</td>\n",
       "      <td>M</td>\n",
       "    </tr>\n",
       "    <tr>\n",
       "      <th>369</th>\n",
       "      <td>Demented</td>\n",
       "      <td>M</td>\n",
       "    </tr>\n",
       "    <tr>\n",
       "      <th>370</th>\n",
       "      <td>Nondemented</td>\n",
       "      <td>F</td>\n",
       "    </tr>\n",
       "    <tr>\n",
       "      <th>371</th>\n",
       "      <td>Nondemented</td>\n",
       "      <td>F</td>\n",
       "    </tr>\n",
       "    <tr>\n",
       "      <th>372</th>\n",
       "      <td>Nondemented</td>\n",
       "      <td>F</td>\n",
       "    </tr>\n",
       "  </tbody>\n",
       "</table>\n",
       "<p>354 rows × 2 columns</p>\n",
       "</div>"
      ],
      "text/plain": [
       "    dementia_group gender\n",
       "0      Nondemented      M\n",
       "1      Nondemented      M\n",
       "5      Nondemented      F\n",
       "6      Nondemented      F\n",
       "7      Nondemented      M\n",
       "..             ...    ...\n",
       "368       Demented      M\n",
       "369       Demented      M\n",
       "370    Nondemented      F\n",
       "371    Nondemented      F\n",
       "372    Nondemented      F\n",
       "\n",
       "[354 rows x 2 columns]"
      ]
     },
     "execution_count": 100,
     "metadata": {},
     "output_type": "execute_result"
    }
   ],
   "source": [
    "cat_df = df.select_dtypes(include=['object']) #identifying the columns with categorical variables\n",
    "cat_df"
   ]
  },
  {
   "cell_type": "code",
   "execution_count": 101,
   "id": "edf41ac5",
   "metadata": {},
   "outputs": [
    {
     "data": {
      "text/html": [
       "<div>\n",
       "<style scoped>\n",
       "    .dataframe tbody tr th:only-of-type {\n",
       "        vertical-align: middle;\n",
       "    }\n",
       "\n",
       "    .dataframe tbody tr th {\n",
       "        vertical-align: top;\n",
       "    }\n",
       "\n",
       "    .dataframe thead th {\n",
       "        text-align: right;\n",
       "    }\n",
       "</style>\n",
       "<table border=\"1\" class=\"dataframe\">\n",
       "  <thead>\n",
       "    <tr style=\"text-align: right;\">\n",
       "      <th></th>\n",
       "      <th>F</th>\n",
       "      <th>M</th>\n",
       "    </tr>\n",
       "  </thead>\n",
       "  <tbody>\n",
       "    <tr>\n",
       "      <th>0</th>\n",
       "      <td>0</td>\n",
       "      <td>1</td>\n",
       "    </tr>\n",
       "    <tr>\n",
       "      <th>1</th>\n",
       "      <td>0</td>\n",
       "      <td>1</td>\n",
       "    </tr>\n",
       "    <tr>\n",
       "      <th>5</th>\n",
       "      <td>1</td>\n",
       "      <td>0</td>\n",
       "    </tr>\n",
       "    <tr>\n",
       "      <th>6</th>\n",
       "      <td>1</td>\n",
       "      <td>0</td>\n",
       "    </tr>\n",
       "    <tr>\n",
       "      <th>7</th>\n",
       "      <td>0</td>\n",
       "      <td>1</td>\n",
       "    </tr>\n",
       "    <tr>\n",
       "      <th>...</th>\n",
       "      <td>...</td>\n",
       "      <td>...</td>\n",
       "    </tr>\n",
       "    <tr>\n",
       "      <th>368</th>\n",
       "      <td>0</td>\n",
       "      <td>1</td>\n",
       "    </tr>\n",
       "    <tr>\n",
       "      <th>369</th>\n",
       "      <td>0</td>\n",
       "      <td>1</td>\n",
       "    </tr>\n",
       "    <tr>\n",
       "      <th>370</th>\n",
       "      <td>1</td>\n",
       "      <td>0</td>\n",
       "    </tr>\n",
       "    <tr>\n",
       "      <th>371</th>\n",
       "      <td>1</td>\n",
       "      <td>0</td>\n",
       "    </tr>\n",
       "    <tr>\n",
       "      <th>372</th>\n",
       "      <td>1</td>\n",
       "      <td>0</td>\n",
       "    </tr>\n",
       "  </tbody>\n",
       "</table>\n",
       "<p>354 rows × 2 columns</p>\n",
       "</div>"
      ],
      "text/plain": [
       "     F  M\n",
       "0    0  1\n",
       "1    0  1\n",
       "5    1  0\n",
       "6    1  0\n",
       "7    0  1\n",
       "..  .. ..\n",
       "368  0  1\n",
       "369  0  1\n",
       "370  1  0\n",
       "371  1  0\n",
       "372  1  0\n",
       "\n",
       "[354 rows x 2 columns]"
      ]
     },
     "execution_count": 101,
     "metadata": {},
     "output_type": "execute_result"
    }
   ],
   "source": [
    "pd.get_dummies(df['gender'])"
   ]
  },
  {
   "cell_type": "code",
   "execution_count": 102,
   "id": "15cab8fd",
   "metadata": {},
   "outputs": [],
   "source": [
    "df.gender.replace(to_replace='F', value='0', inplace=True) #replacing categorical variable for female \"F\" with 0 \n",
    "df.gender.replace(to_replace='M', value='1', inplace=True) #replacing categorical variable for female \"M\" with 1"
   ]
  },
  {
   "cell_type": "code",
   "execution_count": 103,
   "id": "23254898",
   "metadata": {},
   "outputs": [],
   "source": [
    "df.gender.replace(to_replace='0', value=0, inplace=True) #replacing categorical variable for female \"F\" with 0 \n",
    "df.gender.replace(to_replace='1', value=1, inplace=True) #replacing categorical variable for female \"M\" with 1"
   ]
  },
  {
   "cell_type": "code",
   "execution_count": 104,
   "id": "46b389f6",
   "metadata": {},
   "outputs": [],
   "source": [
    "df.dementia_group.replace(to_replace='Nondemented', value='0', inplace=True) #replacing categorical variable for nondemented with 0 \n",
    "df.dementia_group.replace(to_replace='Demented', value='1', inplace=True) #replacing categorical variable for demented with 1"
   ]
  },
  {
   "cell_type": "code",
   "execution_count": 105,
   "id": "35fc8f27",
   "metadata": {},
   "outputs": [],
   "source": [
    "df.dementia_group.replace(to_replace='0', value=0, inplace=True) #replacing categorical variable for nondemented with 0 \n",
    "df.dementia_group.replace(to_replace='1', value=1, inplace=True) #replacing categorical variable for demented with 1"
   ]
  },
  {
   "cell_type": "markdown",
   "id": "449b1a92",
   "metadata": {},
   "source": [
    "For our business questions there is no need to specifically consider patients who converted to having the Alzheimer disease. Therefore, we consider each row with the entry \"converted\" the same way as \"Demented\". Thus, replacing it likewise with 1."
   ]
  },
  {
   "cell_type": "code",
   "execution_count": 106,
   "id": "858a5d8f",
   "metadata": {},
   "outputs": [],
   "source": [
    "df.dementia_group.replace(to_replace='Converted', value=1, inplace=True) #replacing categorical variable for nondemented with 1 "
   ]
  },
  {
   "cell_type": "code",
   "execution_count": 107,
   "id": "7fad90ac",
   "metadata": {},
   "outputs": [
    {
     "data": {
      "text/plain": [
       "dementia_group                          int64\n",
       "gender                                  int64\n",
       "age                                     int64\n",
       "years_education                         int64\n",
       "socioeconomic_status                  float64\n",
       "mini_mentalstate_examination          float64\n",
       "clinical_dementia_rating              float64\n",
       "estimated_total_intacranial_volume      int64\n",
       "normalized_whole_brain_volume         float64\n",
       "atlas_scaling_factor                  float64\n",
       "dtype: object"
      ]
     },
     "execution_count": 107,
     "metadata": {},
     "output_type": "execute_result"
    }
   ],
   "source": [
    "df.dtypes"
   ]
  },
  {
   "cell_type": "code",
   "execution_count": 109,
   "id": "8b083597",
   "metadata": {},
   "outputs": [
    {
     "data": {
      "text/plain": [
       "0    190\n",
       "1    164\n",
       "Name: dementia_group, dtype: int64"
      ]
     },
     "execution_count": 109,
     "metadata": {},
     "output_type": "execute_result"
    }
   ],
   "source": [
    "df.dementia_group.value_counts()"
   ]
  },
  {
   "cell_type": "markdown",
   "id": "4e633946",
   "metadata": {},
   "source": [
    "Now we will start with modelling through linear regression."
   ]
  },
  {
   "cell_type": "code",
   "execution_count": 120,
   "id": "bef5721a",
   "metadata": {},
   "outputs": [
    {
     "data": {
      "text/plain": [
       "'The r-squared score for the model using only quantitative variables was 0.5699084294433614 on 107 values.'"
      ]
     },
     "execution_count": 120,
     "metadata": {},
     "output_type": "execute_result"
    }
   ],
   "source": [
    "#Split into explanatory and response variables\n",
    "X = df[['gender', 'age', 'years_education', 'socioeconomic_status', 'mini_mentalstate_examination', 'clinical_dementia_rating', 'estimated_total_intacranial_volume', 'normalized_whole_brain_volume', 'atlas_scaling_factor']]\n",
    "y = df[['dementia_group']]\n",
    "\n",
    "#Split into train and test\n",
    "X_train, X_test, y_train, y_test = train_test_split(X, y, test_size = .30, random_state=42) \n",
    "\n",
    "lm_model = LinearRegression() # Instantiate\n",
    "lm_model.fit(X_train, y_train) #Fit\n",
    "        \n",
    "#Predict and score the model\n",
    "y_test_preds = lm_model.predict(X_test) \n",
    "\n",
    "#Predict and score the model\n",
    "y_test_preds = lm_model.predict(X_test) \n",
    "\"The r-squared score for the model using only quantitative variables was {} on {} values.\".format(r2_score(y_test, y_test_preds), len(y_test))"
   ]
  },
  {
   "cell_type": "markdown",
   "id": "08381b3a",
   "metadata": {},
   "source": [
    "With the r-squared score of the linear regression we can see that 57% of the variance of the response variable is explained by the variance of the explanatory variables. Therefore, more features are required to get a broader and more sophisticated view on the Alzheimer disease prediction."
   ]
  },
  {
   "cell_type": "code",
   "execution_count": null,
   "id": "7e828c46",
   "metadata": {},
   "outputs": [],
   "source": []
  }
 ],
 "metadata": {
  "kernelspec": {
   "display_name": "Python 3 (ipykernel)",
   "language": "python",
   "name": "python3"
  },
  "language_info": {
   "codemirror_mode": {
    "name": "ipython",
    "version": 3
   },
   "file_extension": ".py",
   "mimetype": "text/x-python",
   "name": "python",
   "nbconvert_exporter": "python",
   "pygments_lexer": "ipython3",
   "version": "3.9.12"
  }
 },
 "nbformat": 4,
 "nbformat_minor": 5
}
